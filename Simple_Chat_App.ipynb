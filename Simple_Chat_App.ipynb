{
  "nbformat": 4,
  "nbformat_minor": 0,
  "metadata": {
    "colab": {
      "name": "Simple Chat App.ipynb",
      "provenance": []
    },
    "kernelspec": {
      "name": "python3",
      "display_name": "Python 3"
    },
    "language_info": {
      "name": "python"
    }
  },
  "cells": [
    {
      "cell_type": "code",
      "metadata": {
        "id": "aCls-F48JO4Z"
      },
      "source": [
        "#Client.py\n",
        "import socket\n",
        "from threading import Thread\n",
        "cs=socket.socket() #client socket\n",
        "cs.connect((\"localhost\",2900))\n",
        "name=input(\"Enter your name:\")\n",
        "cs.sendall(name.encode())\n",
        "def receive_data():\n",
        "    while True:\n",
        "\n",
        "        data=cs.recv(1000)\n",
        "        print(data.decode())\n",
        "def send_data():\n",
        "    while True:\n",
        "        user_input=input()\n",
        "        cs.sendall(user_input.encode())\n",
        "t=Thread(target=receive_data)\n",
        "t.start()\n",
        "send_data()"
      ],
      "execution_count": null,
      "outputs": []
    },
    {
      "cell_type": "code",
      "metadata": {
        "id": "U_MRPXSfJU9q"
      },
      "source": [
        "#Server.py\n",
        "import socket\n",
        "from threading import Thread\n",
        "ss=socket.socket() #server socket\n",
        "ss.bind((\"\",2900))\n",
        "ss.listen()\n",
        "clients={}\n",
        "def client_task(client_name,client_conn,client_addr):\n",
        "    while True:\n",
        "        data=client_conn.recv(1000)\n",
        "        message=client_name+\": \"+data.decode()\n",
        "        for client in clients:\n",
        "            if client!=client_name:\n",
        "                clients[client].sendall(message.encode())\n",
        "while True:\n",
        "    conn,addr=ss.accept()\n",
        "    print(\"got a connection from client at address \",addr)\n",
        "    name=conn.recv(1000)\n",
        "    clients[name.decode()]=conn\n",
        "    t=Thread(target=client_task,args=(name.decode,conn,addr))\n",
        "    t.start()\n"
      ],
      "execution_count": null,
      "outputs": []
    }
  ]
}